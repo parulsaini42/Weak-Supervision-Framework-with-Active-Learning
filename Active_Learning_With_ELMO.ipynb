{
 "cells": [
  {
   "cell_type": "markdown",
   "id": "e2074134",
   "metadata": {
    "id": "e2074134"
   },
   "source": [
    "# Installing required libraries"
   ]
  },
  {
   "cell_type": "code",
   "execution_count": 19,
   "id": "b6c0e5b4",
   "metadata": {
    "colab": {
     "base_uri": "https://localhost:8080/"
    },
    "id": "b6c0e5b4",
    "outputId": "0c409cf9-2822-44a7-91f1-0d6312656015"
   },
   "outputs": [
    {
     "name": "stderr",
     "output_type": "stream",
     "text": [
      "[nltk_data] Downloading package wordnet to\n",
      "[nltk_data]     /Users/parulsaini/nltk_data...\n",
      "[nltk_data]   Package wordnet is already up-to-date!\n",
      "[nltk_data] Downloading package punkt to\n",
      "[nltk_data]     /Users/parulsaini/nltk_data...\n",
      "[nltk_data]   Package punkt is already up-to-date!\n"
     ]
    }
   ],
   "source": [
    "!pip install modAL\n",
    "!pip install tensorflow==1.13.1\n",
    "!pip install tensorflow_hub==0.7.0\n",
    "\n",
    "import numpy as np\n",
    "import pandas as pd\n",
    "import re\n",
    "import time\n",
    "import pickle\n",
    "from sklearn.model_selection import train_test_split\n",
    "from sklearn.ensemble import RandomForestClassifier\n",
    "from sklearn.neighbors import KNeighborsClassifier\n",
    "from sklearn.svm import SVC\n",
    "from sklearn.linear_model import LogisticRegression\n",
    "from sklearn.multiclass import OneVsRestClassifier\n",
    "from sklearn.metrics import accuracy_score\n",
    "from sklearn.feature_extraction.text import CountVectorizer, TfidfTransformer\n",
    "import nltk\n",
    "nltk.download('wordnet') #First download the required data \n",
    "nltk.download('punkt')\n",
    "\n",
    "from modAL.models import ActiveLearner\n",
    "from modAL.uncertainty import uncertainty_sampling\n",
    "from modAL.uncertainty import entropy_sampling\n",
    "from modAL.uncertainty import margin_sampling\n",
    "from modAL.batch import uncertainty_batch_sampling\n",
    "\n",
    "from IPython import display\n",
    "from matplotlib import pyplot as plt\n",
    "%matplotlib inline"
   ]
  },
  {
   "cell_type": "markdown",
   "id": "966d60de",
   "metadata": {
    "id": "966d60de"
   },
   "source": [
    "# Data processing for active learning - TREC"
   ]
  },
  {
   "cell_type": "code",
   "execution_count": 306,
   "id": "8808dcba",
   "metadata": {
    "id": "8808dcba"
   },
   "outputs": [
    {
     "data": {
      "text/html": [
       "<div>\n",
       "<style scoped>\n",
       "    .dataframe tbody tr th:only-of-type {\n",
       "        vertical-align: middle;\n",
       "    }\n",
       "\n",
       "    .dataframe tbody tr th {\n",
       "        vertical-align: top;\n",
       "    }\n",
       "\n",
       "    .dataframe thead th {\n",
       "        text-align: right;\n",
       "    }\n",
       "</style>\n",
       "<table border=\"1\" class=\"dataframe\">\n",
       "  <thead>\n",
       "    <tr style=\"text-align: right;\">\n",
       "      <th></th>\n",
       "      <th>text</th>\n",
       "      <th>label</th>\n",
       "      <th>train</th>\n",
       "      <th>test</th>\n",
       "      <th>valid</th>\n",
       "      <th>initial_train</th>\n",
       "    </tr>\n",
       "  </thead>\n",
       "  <tbody>\n",
       "    <tr>\n",
       "      <th>0</th>\n",
       "      <td>how did serfdom develop in and then leave russ...</td>\n",
       "      <td>0</td>\n",
       "      <td>train</td>\n",
       "      <td>NaN</td>\n",
       "      <td>NaN</td>\n",
       "      <td>NaN</td>\n",
       "    </tr>\n",
       "    <tr>\n",
       "      <th>1</th>\n",
       "      <td>what films featured the character popeye doyle ?</td>\n",
       "      <td>1</td>\n",
       "      <td>train</td>\n",
       "      <td>NaN</td>\n",
       "      <td>NaN</td>\n",
       "      <td>NaN</td>\n",
       "    </tr>\n",
       "    <tr>\n",
       "      <th>2</th>\n",
       "      <td>how can i find a list of celebrities ' real na...</td>\n",
       "      <td>0</td>\n",
       "      <td>train</td>\n",
       "      <td>NaN</td>\n",
       "      <td>NaN</td>\n",
       "      <td>NaN</td>\n",
       "    </tr>\n",
       "    <tr>\n",
       "      <th>3</th>\n",
       "      <td>what fowl grabs the spotlight after the chines...</td>\n",
       "      <td>1</td>\n",
       "      <td>train</td>\n",
       "      <td>NaN</td>\n",
       "      <td>NaN</td>\n",
       "      <td>NaN</td>\n",
       "    </tr>\n",
       "    <tr>\n",
       "      <th>4</th>\n",
       "      <td>what is the full form of .com ?</td>\n",
       "      <td>3</td>\n",
       "      <td>train</td>\n",
       "      <td>NaN</td>\n",
       "      <td>NaN</td>\n",
       "      <td>NaN</td>\n",
       "    </tr>\n",
       "  </tbody>\n",
       "</table>\n",
       "</div>"
      ],
      "text/plain": [
       "                                                text  label  train test valid  \\\n",
       "0  how did serfdom develop in and then leave russ...      0  train  NaN   NaN   \n",
       "1   what films featured the character popeye doyle ?      1  train  NaN   NaN   \n",
       "2  how can i find a list of celebrities ' real na...      0  train  NaN   NaN   \n",
       "3  what fowl grabs the spotlight after the chines...      1  train  NaN   NaN   \n",
       "4                    what is the full form of .com ?      3  train  NaN   NaN   \n",
       "\n",
       "  initial_train  \n",
       "0           NaN  \n",
       "1           NaN  \n",
       "2           NaN  \n",
       "3           NaN  \n",
       "4           NaN  "
      ]
     },
     "execution_count": 306,
     "metadata": {},
     "output_type": "execute_result"
    }
   ],
   "source": [
    "LABEL_DICT = {\"DESCRIPTION\": 0, \"ENTITY\": 1, \"HUMAN\": 2, \"ABBREVIATION\": 3, \"LOCATION\": 4, \"NUMERIC\": 5}\n",
    "label_map = {\"DESC\": \"DESCRIPTION\", \"ENTY\": \"ENTITY\", \"HUM\": \"HUMAN\", \"ABBR\": \"ABBREVIATION\", \"LOC\": \"LOCATION\",\n",
    "           \"NUM\": \"NUMERIC\"}\n",
    "\n",
    "def load_data(file_name,split):\n",
    "    data=[]\n",
    "    with open(file_name, 'r', encoding='latin1') as f:\n",
    "        for line in f:\n",
    "            label = LABEL_DICT[label_map[line.split()[0].split(\":\")[0]]]\n",
    "            if split == 'test':\n",
    "                sentence = (\" \".join(line.split()[1:]))\n",
    "            else:\n",
    "                sentence = (\" \".join(line.split(\":\")[1:])).lower().strip()\n",
    "            data.append((sentence, label, split))\n",
    "    df_part= pd.DataFrame(data,columns=['text','label',split])\n",
    "    return df_part\n",
    "\n",
    "\n",
    "#TREC Dataset\n",
    "#Using data splits from Awasthi - Labelled Exempelars\n",
    "df_train=load_data('train.txt','train')\n",
    "df_valid=load_data('valid.txt','valid')\n",
    "df_test=load_data('test.txt','test')\n",
    "\n",
    "df_initial_train=load_data('initial_train.txt','initial_train')\n",
    "\n",
    "#Not taking initial ASTRA labeled data\n",
    "#df = pd.concat([df_train, df_test,df_valid],ignore_index=True)\n",
    "\n",
    "#Taking initial ASTRA labeled data\n",
    "df = pd.concat([df_train, df_test,df_valid,df_initial_train],ignore_index=True)\n",
    "df.head()"
   ]
  },
  {
   "cell_type": "markdown",
   "id": "c042d378",
   "metadata": {},
   "source": [
    "# Data processing for active learning - SMS"
   ]
  },
  {
   "cell_type": "code",
   "execution_count": 20,
   "id": "2JRQUCKa9cXN",
   "metadata": {
    "id": "2JRQUCKa9cXN"
   },
   "outputs": [
    {
     "data": {
      "text/html": [
       "<div>\n",
       "<style scoped>\n",
       "    .dataframe tbody tr th:only-of-type {\n",
       "        vertical-align: middle;\n",
       "    }\n",
       "\n",
       "    .dataframe tbody tr th {\n",
       "        vertical-align: top;\n",
       "    }\n",
       "\n",
       "    .dataframe thead th {\n",
       "        text-align: right;\n",
       "    }\n",
       "</style>\n",
       "<table border=\"1\" class=\"dataframe\">\n",
       "  <thead>\n",
       "    <tr style=\"text-align: right;\">\n",
       "      <th></th>\n",
       "      <th>text</th>\n",
       "      <th>label</th>\n",
       "      <th>train</th>\n",
       "      <th>test</th>\n",
       "      <th>valid</th>\n",
       "    </tr>\n",
       "  </thead>\n",
       "  <tbody>\n",
       "    <tr>\n",
       "      <th>0</th>\n",
       "      <td>goldviking (29/m) is inviting you to be his fr...</td>\n",
       "      <td>1</td>\n",
       "      <td>train</td>\n",
       "      <td>NaN</td>\n",
       "      <td>NaN</td>\n",
       "    </tr>\n",
       "    <tr>\n",
       "      <th>1</th>\n",
       "      <td>i'm in solihull, | do you want anything?</td>\n",
       "      <td>0</td>\n",
       "      <td>train</td>\n",
       "      <td>NaN</td>\n",
       "      <td>NaN</td>\n",
       "    </tr>\n",
       "    <tr>\n",
       "      <th>2</th>\n",
       "      <td>u have a secret admirer. reveal who thinks u r...</td>\n",
       "      <td>1</td>\n",
       "      <td>train</td>\n",
       "      <td>NaN</td>\n",
       "      <td>NaN</td>\n",
       "    </tr>\n",
       "    <tr>\n",
       "      <th>3</th>\n",
       "      <td>hello lover! how goes that new job? are you th...</td>\n",
       "      <td>0</td>\n",
       "      <td>train</td>\n",
       "      <td>NaN</td>\n",
       "      <td>NaN</td>\n",
       "    </tr>\n",
       "    <tr>\n",
       "      <th>4</th>\n",
       "      <td>hey i am really horny want to chat or see me n...</td>\n",
       "      <td>1</td>\n",
       "      <td>train</td>\n",
       "      <td>NaN</td>\n",
       "      <td>NaN</td>\n",
       "    </tr>\n",
       "  </tbody>\n",
       "</table>\n",
       "</div>"
      ],
      "text/plain": [
       "                                                text  label  train test valid\n",
       "0  goldviking (29/m) is inviting you to be his fr...      1  train  NaN   NaN\n",
       "1           i'm in solihull, | do you want anything?      0  train  NaN   NaN\n",
       "2  u have a secret admirer. reveal who thinks u r...      1  train  NaN   NaN\n",
       "3  hello lover! how goes that new job? are you th...      0  train  NaN   NaN\n",
       "4  hey i am really horny want to chat or see me n...      1  train  NaN   NaN"
      ]
     },
     "execution_count": 20,
     "metadata": {},
     "output_type": "execute_result"
    }
   ],
   "source": [
    "LABEL_DICT = {\"ham\": 0, \"spam\": 1}\n",
    "def load_data(mode):\n",
    "    data = pd.read_csv(mode , encoding='latin1')\n",
    "    sentence = [x.lower().strip() for x in data[\"v2\"].tolist()]\n",
    "    label = [LABEL_DICT[item] for item in data[\"v1\"].tolist()]\n",
    "    data = list(zip(sentence,label))\n",
    "    return data\n",
    "\n",
    "train=load_data('sms dataset/train.csv')\n",
    "df_train=pd.DataFrame(train,columns=['text','label'])\n",
    "df_train['train']='train'\n",
    "\n",
    "valid=load_data('sms dataset/valid.csv')\n",
    "df_valid=pd.DataFrame(valid,columns=['text','label'])\n",
    "df_valid['valid']='valid'\n",
    "\n",
    "test=load_data('sms dataset/test.csv')\n",
    "df_test=pd.DataFrame(test,columns=['text','label'])\n",
    "df_test['test']='test'\n",
    "\n",
    "\n",
    "#Not taking initial ASTRA labeled data\n",
    "#df = pd.concat([df_train, df_test,df_valid],ignore_index=True)\n",
    "\n",
    "#Taking initial ASTRA labeled data\n",
    "df = pd.concat([df_train, df_test,df_valid,df_initial_train],ignore_index=True)\n",
    "df.head()"
   ]
  },
  {
   "cell_type": "markdown",
   "id": "48c35392",
   "metadata": {
    "id": "48c35392"
   },
   "source": [
    "# Pre-processing Text Data"
   ]
  },
  {
   "cell_type": "markdown",
   "id": "275d3ed7",
   "metadata": {},
   "source": [
    "## Remove Punctuation"
   ]
  },
  {
   "cell_type": "code",
   "execution_count": 21,
   "id": "38b71181",
   "metadata": {
    "colab": {
     "base_uri": "https://localhost:8080/",
     "height": 204
    },
    "id": "38b71181",
    "outputId": "a423929e-222a-4fa6-defa-c2c9b1da8736"
   },
   "outputs": [
    {
     "data": {
      "text/html": [
       "<div>\n",
       "<style scoped>\n",
       "    .dataframe tbody tr th:only-of-type {\n",
       "        vertical-align: middle;\n",
       "    }\n",
       "\n",
       "    .dataframe tbody tr th {\n",
       "        vertical-align: top;\n",
       "    }\n",
       "\n",
       "    .dataframe thead th {\n",
       "        text-align: right;\n",
       "    }\n",
       "</style>\n",
       "<table border=\"1\" class=\"dataframe\">\n",
       "  <thead>\n",
       "    <tr style=\"text-align: right;\">\n",
       "      <th></th>\n",
       "      <th>text</th>\n",
       "      <th>label</th>\n",
       "      <th>train</th>\n",
       "      <th>test</th>\n",
       "      <th>valid</th>\n",
       "      <th>clean_text</th>\n",
       "    </tr>\n",
       "  </thead>\n",
       "  <tbody>\n",
       "    <tr>\n",
       "      <th>0</th>\n",
       "      <td>goldviking (29/m) is inviting you to be his fr...</td>\n",
       "      <td>1</td>\n",
       "      <td>train</td>\n",
       "      <td>NaN</td>\n",
       "      <td>NaN</td>\n",
       "      <td>goldviking 29m is inviting you to be his frien...</td>\n",
       "    </tr>\n",
       "    <tr>\n",
       "      <th>1</th>\n",
       "      <td>i'm in solihull, | do you want anything?</td>\n",
       "      <td>0</td>\n",
       "      <td>train</td>\n",
       "      <td>NaN</td>\n",
       "      <td>NaN</td>\n",
       "      <td>im in solihull  do you want anything</td>\n",
       "    </tr>\n",
       "    <tr>\n",
       "      <th>2</th>\n",
       "      <td>u have a secret admirer. reveal who thinks u r...</td>\n",
       "      <td>1</td>\n",
       "      <td>train</td>\n",
       "      <td>NaN</td>\n",
       "      <td>NaN</td>\n",
       "      <td>u have a secret admirer reveal who thinks u r ...</td>\n",
       "    </tr>\n",
       "    <tr>\n",
       "      <th>3</th>\n",
       "      <td>hello lover! how goes that new job? are you th...</td>\n",
       "      <td>0</td>\n",
       "      <td>train</td>\n",
       "      <td>NaN</td>\n",
       "      <td>NaN</td>\n",
       "      <td>hello lover how goes that new job are you ther...</td>\n",
       "    </tr>\n",
       "    <tr>\n",
       "      <th>4</th>\n",
       "      <td>hey i am really horny want to chat or see me n...</td>\n",
       "      <td>1</td>\n",
       "      <td>train</td>\n",
       "      <td>NaN</td>\n",
       "      <td>NaN</td>\n",
       "      <td>hey i am really horny want to chat or see me n...</td>\n",
       "    </tr>\n",
       "  </tbody>\n",
       "</table>\n",
       "</div>"
      ],
      "text/plain": [
       "                                                text  label  train test valid  \\\n",
       "0  goldviking (29/m) is inviting you to be his fr...      1  train  NaN   NaN   \n",
       "1           i'm in solihull, | do you want anything?      0  train  NaN   NaN   \n",
       "2  u have a secret admirer. reveal who thinks u r...      1  train  NaN   NaN   \n",
       "3  hello lover! how goes that new job? are you th...      0  train  NaN   NaN   \n",
       "4  hey i am really horny want to chat or see me n...      1  train  NaN   NaN   \n",
       "\n",
       "                                          clean_text  \n",
       "0  goldviking 29m is inviting you to be his frien...  \n",
       "1               im in solihull  do you want anything  \n",
       "2  u have a secret admirer reveal who thinks u r ...  \n",
       "3  hello lover how goes that new job are you ther...  \n",
       "4  hey i am really horny want to chat or see me n...  "
      ]
     },
     "execution_count": 21,
     "metadata": {},
     "output_type": "execute_result"
    }
   ],
   "source": [
    "import string\n",
    "string.punctuation\n",
    "\n",
    "#defining the function to remove punctuation\n",
    "def remove_punctuation(text):\n",
    "    punctuationfree=\"\".join([i for i in text if i not in string.punctuation])\n",
    "    return punctuationfree\n",
    "#storing the puntuation free text\n",
    "df['clean_text']= df['text'].apply(lambda x:remove_punctuation(x)).apply(lambda x: x.lower())\n",
    "df.head()"
   ]
  },
  {
   "cell_type": "markdown",
   "id": "c5afce55",
   "metadata": {},
   "source": [
    "## Perform Lemmitization to get canonical form of word"
   ]
  },
  {
   "cell_type": "code",
   "execution_count": 22,
   "id": "228b4e85",
   "metadata": {
    "colab": {
     "base_uri": "https://localhost:8080/"
    },
    "id": "228b4e85",
    "outputId": "db013606-ef6d-4269-c3a8-821c03520f0c"
   },
   "outputs": [
    {
     "data": {
      "text/plain": [
       "0    goldviking 29m be invite you to be his friend ...\n",
       "1                  im in solihull do you want anything\n",
       "2    u have a secret admirer reveal who think u r s...\n",
       "3    hello lover how go that new job be you there n...\n",
       "4    hey i be really horny want to chat or see me n...\n",
       "Name: text_lemmatized, dtype: object"
      ]
     },
     "execution_count": 22,
     "metadata": {},
     "output_type": "execute_result"
    }
   ],
   "source": [
    "\n",
    "#Lemmitization:\n",
    "from nltk.stem import WordNetLemmatizer\n",
    "# Init the Wordnet Lemmatizer\n",
    "lemmatizer = nltk.stem.WordNetLemmatizer()\n",
    "w_tokenizer = nltk.tokenize.WhitespaceTokenizer()\n",
    " \n",
    "def lemmatize_text(text):\n",
    "    return ' '.join([lemmatizer.lemmatize(w,'v') for w in w_tokenizer.tokenize(text)])\n",
    "    \n",
    "    \n",
    "df['text_lemmatized'] = df['clean_text'].apply(lemmatize_text)\n",
    "df['text_lemmatized'].head()"
   ]
  },
  {
   "cell_type": "code",
   "execution_count": 23,
   "id": "BJgtzvwq-u1n",
   "metadata": {
    "id": "BJgtzvwq-u1n"
   },
   "outputs": [],
   "source": [
    "train_text = df[df['train']=='train']['text_lemmatized'].to_numpy()\n",
    "test_text =df[df['test']=='test']['text_lemmatized'].to_numpy()\n",
    "valid_text =df[df['valid']=='valid']['text_lemmatized'].to_numpy()\n",
    "#initial_train_text =df[df['initial_train']=='initial_train']['text_lemmatized'].to_numpy()\n",
    "y_train= df[df['train']=='train']['label'].to_numpy()\n",
    "y_test=df[df['test']=='test']['label'].to_numpy()\n",
    "y_valid=df[df['valid']=='valid']['label'].to_numpy()\n",
    "#y_initial_train=df[df['initial_train']=='initial_train']['label'].to_numpy()"
   ]
  },
  {
   "cell_type": "markdown",
   "id": "452a1d19",
   "metadata": {},
   "source": [
    "## Create Embeddings with ELMO - Execute in Google Colab "
   ]
  },
  {
   "cell_type": "code",
   "execution_count": null,
   "id": "f6154a9f",
   "metadata": {
    "colab": {
     "base_uri": "https://localhost:8080/"
    },
    "id": "f6154a9f",
    "outputId": "90aa15da-800c-4b97-bfd5-cf90f3d1dcb2"
   },
   "outputs": [],
   "source": [
    "#Execute in Google Colab to create embeddings\n",
    "import os\n",
    "import tensorflow as tf\n",
    "import tensorflow_hub as hub\n",
    "module_url = \"https://tfhub.dev/google/elmo/2\"\n",
    "elmo = hub.Module(module_url,trainable=True)\n"
   ]
  },
  {
   "cell_type": "code",
   "execution_count": null,
   "id": "Rk0Xfjir-k0m",
   "metadata": {
    "colab": {
     "base_uri": "https://localhost:8080/",
     "height": 54
    },
    "id": "Rk0Xfjir-k0m",
    "outputId": "e625a5da-bdbe-4399-9575-a5ec3f8f834a"
   },
   "outputs": [],
   "source": [
    "def elmo_vectors(x):\n",
    "    sess_config = tf.ConfigProto()\n",
    "    sess_config.gpu_options.allow_growth = True\n",
    "  \n",
    "    #elmo(x, signature=\"default\", as_dict=True)[\"elmo\"]\n",
    "    with tf.Session(config=sess_config) as session:\n",
    "        session.run([tf.global_variables_initializer(), tf.tables_initializer()])\n",
    "        embeddings = elmo(x.tolist(),signature=\"default\",as_dict=True)[\"default\"]\n",
    "        return session.run(embeddings)\n",
    "    "
   ]
  },
  {
   "cell_type": "code",
   "execution_count": 152,
   "id": "FRExaJHP_KLX",
   "metadata": {
    "id": "FRExaJHP_KLX"
   },
   "outputs": [],
   "source": [
    "list_train = [train_text[i:i+100] for i in range(0,train_text.shape[0],100)]\n",
    "list_test = [test_text[i:i+100] for i in range(0,test_text.shape[0],100)]\n",
    "list_valid = [valid_text[i:i+100] for i in range(0,valid_text.shape[0],100)]\n",
    "#list_initial_train = [initial_train_text[i:i+100] for i in range(0,initial_train_text.shape[0],100)]"
   ]
  },
  {
   "cell_type": "code",
   "execution_count": null,
   "id": "c14bUL_9WORh",
   "metadata": {
    "colab": {
     "base_uri": "https://localhost:8080/"
    },
    "id": "c14bUL_9WORh",
    "outputId": "2214cff4-9f8a-42a4-f1a6-a7d3f8441c3a"
   },
   "outputs": [],
   "source": [
    "# Extract ELMo embeddings\n",
    "elmo_train = [elmo_vectors(x) for x in list_train]\n",
    "elmo_test = [elmo_vectors(x) for x in list_test]\n",
    "elmo_valid = [elmo_vectors(x) for x in list_valid]\n",
    "elmo_initial= [elmo_vectors(x) for x in list_initial_train ]"
   ]
  },
  {
   "cell_type": "markdown",
   "id": "f241a80b",
   "metadata": {
    "id": "LY4SsCI49iIm"
   },
   "source": [
    "# TREC Embeddings"
   ]
  },
  {
   "cell_type": "code",
   "execution_count": null,
   "id": "Mo9khbVkdaDa",
   "metadata": {
    "colab": {
     "base_uri": "https://localhost:8080/",
     "height": 71
    },
    "id": "Mo9khbVkdaDa",
    "outputId": "95278b94-ca91-43e1-8e1b-cf51ccbe8df0"
   },
   "outputs": [],
   "source": [
    "#Concatenate:\n",
    "elmo_train_new = np.concatenate(elmo_train, axis = 0)\n",
    "elmo_test_new = np.concatenate(elmo_test, axis = 0)\n",
    "elmo_valid_new = np.concatenate(elmo_valid, axis = 0)\n",
    "elmo_initial_new = np.concatenate(elmo_initial, axis = 0)\n",
    "\n",
    "# save elmo_train_new\n",
    "pickle_out = open(\"elmo_train_1218.pickle\",\"wb\")\n",
    "pickle.dump(elmo_train_new, pickle_out)\n",
    "pickle_out.close()\n",
    "\n",
    "# save elmo_test_new\n",
    "pickle_out = open(\"elmo_test_1218.pickle\",\"wb\")\n",
    "pickle.dump(elmo_test_new, pickle_out)\n",
    "pickle_out.close()\n",
    "\n",
    "# save elmo_valid_new\n",
    "pickle_out = open(\"elmo_valid_1218.pickle\",\"wb\")\n",
    "pickle.dump(elmo_valid_new, pickle_out)\n",
    "pickle_out.close()\n",
    "\n",
    "# save elmo\n",
    "pickle_out = open(\"elmo_initial_1218.pickle\",\"wb\")\n",
    "pickle.dump(elmo_initial_new, pickle_out)\n",
    "pickle_out.close()\n"
   ]
  },
  {
   "cell_type": "code",
   "execution_count": null,
   "id": "iQgMUUPRM6iF",
   "metadata": {
    "id": "iQgMUUPRM6iF"
   },
   "outputs": [],
   "source": [
    "#To load back\n",
    "\n",
    "# load elmo_train_new\n",
    "pickle_in = open(\"elmo_train_1116.pickle\", \"rb\")\n",
    "elmo_train_new = pickle.load(pickle_in)\n",
    "\n",
    "# load elmo_test_new\n",
    "pickle_in = open(\"elmo_test_1116.pickle\", \"rb\")\n",
    "elmo_test_new = pickle.load(pickle_in)\n",
    "\n",
    "# load elmo_valid_new\n",
    "pickle_in = open(\"elmo_valid_1116.pickle\", \"rb\")\n",
    "elmo_valid_new = pickle.load(pickle_in)\n",
    "\n",
    "\n",
    "# load elmo_valid_new\n",
    "pickle_in = open(\"elmo_initial_1218.pickle\", \"rb\")\n",
    "elmo_initial_new = pickle.load(pickle_in)\n"
   ]
  },
  {
   "cell_type": "markdown",
   "id": "c286bc88",
   "metadata": {
    "id": "0qxCK2Dy9u_t"
   },
   "source": [
    "# SMS Embeddings"
   ]
  },
  {
   "cell_type": "code",
   "execution_count": 126,
   "id": "1ed8a066",
   "metadata": {},
   "outputs": [],
   "source": [
    "#Concatenate:\n",
    "elmo_train_new = np.concatenate(elmo_train, axis = 0)\n",
    "elmo_test_new = np.concatenate(elmo_test, axis = 0)\n",
    "elmo_valid_new = np.concatenate(elmo_valid, axis = 0)\n",
    "#elmo_initial_new = np.concatenate(elmo_initial, axis = 0)\n",
    "\n",
    "# save elmo_train_new\n",
    "pickle_out = open(\"elmo_train_sms_1220.pickle\",\"wb\")\n",
    "pickle.dump(elmo_train_new, pickle_out)\n",
    "pickle_out.close()\n",
    "\n",
    "\n",
    "# save elmo_test_new\n",
    "pickle_out = open(\"elmo_test_sms_1220.pickle\",\"wb\")\n",
    "pickle.dump(elmo_test_new, pickle_out)\n",
    "pickle_out.close()\n",
    "\n",
    "# save elmo_valid_new\n",
    "pickle_out = open(\"elmo_valid_sms_1220.pickle\",\"wb\")\n",
    "pickle.dump(elmo_valid_new, pickle_out)\n",
    "pickle_out.close()\n"
   ]
  },
  {
   "cell_type": "code",
   "execution_count": 24,
   "id": "9cba01e9",
   "metadata": {},
   "outputs": [],
   "source": [
    "#To load back\n",
    "\n",
    "# load elmo_train_new\n",
    "pickle_in = open(\"elmo_train_sms_1220.pickle\", \"rb\")\n",
    "elmo_train_new = pickle.load(pickle_in)\n",
    "\n",
    "# load elmo_test_new\n",
    "pickle_in = open(\"elmo_test_sms_1220.pickle\", \"rb\")\n",
    "elmo_test_new = pickle.load(pickle_in)\n",
    "\n",
    "# load elmo_valid_new\n",
    "pickle_in = open(\"elmo_valid_sms_1220.pickle\", \"rb\")\n",
    "elmo_valid_new = pickle.load(pickle_in)\n"
   ]
  },
  {
   "cell_type": "markdown",
   "id": "1590b1d6",
   "metadata": {},
   "source": [
    "# Active Learning Module"
   ]
  },
  {
   "cell_type": "code",
   "execution_count": 260,
   "id": "c2b5d00f",
   "metadata": {
    "id": "c2b5d00f"
   },
   "outputs": [],
   "source": [
    "#Random Intialisation\n",
    "\n",
    "import random\n",
    "# TREC Dataser\n",
    "#n_initial = 68\n",
    "# SMS Datset\n",
    "n_initial=73\n",
    "random.seed(0)\n",
    "\n",
    "\n",
    "#select any random records to train on\n",
    "initial_idx = np.random.choice(range(len(elmo_train_new)), size=n_initial, replace=False)\n",
    "\n",
    "X_initial, y_initial = elmo_train_new[initial_idx], y_train[initial_idx]\n",
    "\n",
    "X_pool, y_pool = np.delete(elmo_train_new, initial_idx, axis=0), np.delete(y_train, initial_idx, axis=0)\n",
    "X_pool_text, y_pool_text = np.delete(train_text, initial_idx, axis=0), np.delete(y_train, initial_idx, axis=0)\n"
   ]
  },
  {
   "cell_type": "code",
   "execution_count": 168,
   "id": "8221cc57",
   "metadata": {},
   "outputs": [],
   "source": [
    "#Astra Initialisation\n",
    "n_initial = 68\n",
    "#np.random.seed(0)\n",
    "\n",
    "#select any random records to train on\n",
    "initial = np.random.choice(range(len(elmo_initial_new)), size=n_initial, replace=False)\n",
    "\n",
    "X_initial, y_initial = elmo_initial_new[initial], y_initial_train[initial]\n",
    "\n",
    "\n",
    "# elmo train embedding created without intial, though df contains intial. Run df without initial to create train test valid embeddings\n",
    "#X_pool, y_pool = np.delete(elmo_train_new, initial_idx, axis=0), np.delete(y_train, initial_idx, axis=0)\n",
    "#X_pool_text, y_pool_text = np.delete(train_text, initial_idx, axis=0), np.delete(y_train, initial_idx, axis=0)\n",
    "\n",
    "X_pool, y_pool = elmo_train_new,y_train\n",
    "X_pool_text, y_pool_text = train_text,y_train"
   ]
  },
  {
   "cell_type": "code",
   "execution_count": 230,
   "id": "28fa9be1",
   "metadata": {
    "colab": {
     "base_uri": "https://localhost:8080/"
    },
    "id": "28fa9be1",
    "outputId": "c56c255b-02cb-4806-e2c0-5cc777ce26df"
   },
   "outputs": [
    {
     "name": "stdout",
     "output_type": "stream",
     "text": [
      "initial training data 73\n",
      "unlabelled data 4429\n",
      "test data 500\n"
     ]
    }
   ],
   "source": [
    "print('initial training data', X_initial.shape[0])\n",
    "print('unlabelled data', X_pool_text.shape[0])\n",
    "print('test data', elmo_test_new.shape[0])\n"
   ]
  },
  {
   "cell_type": "markdown",
   "id": "de1f2784",
   "metadata": {},
   "source": [
    "## KNN Classifier with Different Query Strategies"
   ]
  },
  {
   "cell_type": "code",
   "execution_count": null,
   "id": "f9591248",
   "metadata": {
    "colab": {
     "base_uri": "https://localhost:8080/"
    },
    "id": "f9591248",
    "outputId": "b1a44d62-11be-48fd-d52e-897189b18c19"
   },
   "outputs": [],
   "source": [
    "knn =  KNeighborsClassifier(n_neighbors=3)\n",
    "learner = ActiveLearner(\n",
    "    estimator=knn,\n",
    "    query_strategy=uncertainty_sampling,\n",
    "    X_training=X_initial, y_training=y_initial\n",
    ")\n",
    "\n",
    "accuracy_scores = [learner.score(elmo_test_new, y_test)]\n",
    "\n",
    "print(accuracy_scores)"
   ]
  },
  {
   "cell_type": "code",
   "execution_count": null,
   "id": "2b823db0",
   "metadata": {
    "colab": {
     "base_uri": "https://localhost:8080/"
    },
    "id": "2b823db0",
    "outputId": "4ecb4601-7be8-4322-ff66-1183d2ebdea0"
   },
   "outputs": [],
   "source": [
    "knn =  KNeighborsClassifier(n_neighbors=3)\n",
    "learner = ActiveLearner(\n",
    "    estimator=knn,\n",
    "    query_strategy=margin_sampling,\n",
    "    X_training=X_initial, y_training=y_initial\n",
    ")\n",
    "\n",
    "accuracy_scores = [learner.score(elmo_test_new, y_test)]\n",
    "\n",
    "print(accuracy_scores)"
   ]
  },
  {
   "cell_type": "code",
   "execution_count": null,
   "id": "0b8d0d79",
   "metadata": {
    "colab": {
     "base_uri": "https://localhost:8080/"
    },
    "id": "0b8d0d79",
    "outputId": "1d2eda0e-6390-4751-b322-5bc5b95e804a"
   },
   "outputs": [],
   "source": [
    "knn =  KNeighborsClassifier(n_neighbors=3)\n",
    "learner = ActiveLearner(\n",
    "    estimator=knn,\n",
    "    query_strategy=entropy_sampling,\n",
    "    X_training=X_initial, y_training=y_initial\n",
    ")\n",
    "\n",
    "accuracy_scores = [learner.score(elmo_test_new, y_test)]\n",
    "\n",
    "print(accuracy_scores)"
   ]
  },
  {
   "cell_type": "markdown",
   "id": "2b676c53",
   "metadata": {},
   "source": [
    "## Random Forest Classifier with Different Query Strategies"
   ]
  },
  {
   "cell_type": "code",
   "execution_count": null,
   "id": "025t3yMt-Bm0",
   "metadata": {
    "colab": {
     "base_uri": "https://localhost:8080/"
    },
    "id": "025t3yMt-Bm0",
    "outputId": "c5b6b2a5-0eb3-4d36-e67b-8ba26ed6d481"
   },
   "outputs": [],
   "source": [
    "learner = ActiveLearner(\n",
    "    estimator=RandomForestClassifier( random_state =0),\n",
    "    query_strategy=uncertainty_sampling,\n",
    "    X_training=X_initial, y_training=y_initial\n",
    ")\n",
    "accuracy_scores = [learner.score(elmo_test_new, y_test)]\n",
    "print(accuracy_scores)"
   ]
  },
  {
   "cell_type": "code",
   "execution_count": null,
   "id": "yxlBM4Bn-H-v",
   "metadata": {
    "colab": {
     "base_uri": "https://localhost:8080/"
    },
    "id": "yxlBM4Bn-H-v",
    "outputId": "18a6903b-a88b-4068-ea48-575b5de30c77"
   },
   "outputs": [],
   "source": [
    "learner = ActiveLearner(\n",
    "    estimator=RandomForestClassifier( random_state =0),\n",
    "    query_strategy=margin_sampling,\n",
    "    X_training=X_initial, y_training=y_initial\n",
    ")\n",
    "accuracy_scores = [learner.score(elmo_test_new, y_test)]\n",
    "print(accuracy_scores)"
   ]
  },
  {
   "cell_type": "code",
   "execution_count": null,
   "id": "qXw_eiuZ-NQt",
   "metadata": {
    "id": "qXw_eiuZ-NQt"
   },
   "outputs": [],
   "source": [
    "learner = ActiveLearner(\n",
    "    estimator=RandomForestClassifier(  random_state =0),\n",
    "    query_strategy=entropy_sampling,\n",
    "    X_training=X_initial, y_training=y_initial\n",
    ")\n",
    "accuracy_scores = [learner.score(elmo_test_new, y_test)]\n",
    "print(accuracy_scores)"
   ]
  },
  {
   "cell_type": "markdown",
   "id": "fd0fce2f",
   "metadata": {
    "id": "87776a0b"
   },
   "source": [
    "## SVM Classifier with Different Query Strategies"
   ]
  },
  {
   "cell_type": "code",
   "execution_count": 169,
   "id": "9a2b2b74",
   "metadata": {},
   "outputs": [
    {
     "name": "stdout",
     "output_type": "stream",
     "text": [
      "[0.724]\n"
     ]
    }
   ],
   "source": [
    "svm_classifier = SVC(decision_function_shape='ovr', probability=True, kernel='linear')\n",
    "learner = ActiveLearner(\n",
    "    estimator=svm_classifier,\n",
    "    query_strategy=uncertainty_sampling,\n",
    "    X_training=X_initial, y_training=y_initial\n",
    ")\n",
    "accuracy_scores = [learner.score(elmo_test_new, y_test)]\n",
    "print(accuracy_scores)"
   ]
  },
  {
   "cell_type": "code",
   "execution_count": 160,
   "id": "5a88d6ca",
   "metadata": {},
   "outputs": [
    {
     "name": "stdout",
     "output_type": "stream",
     "text": [
      "[0.724]\n"
     ]
    }
   ],
   "source": [
    "svm_classifier = SVC(decision_function_shape='ovr', probability=True,kernel='linear')\n",
    "learner = ActiveLearner(\n",
    "    estimator=svm_classifier,\n",
    "    query_strategy=margin_sampling,\n",
    "    X_training=X_initial, y_training=y_initial\n",
    ")\n",
    "accuracy_scores = [learner.score(elmo_test_new, y_test)]\n",
    "print(accuracy_scores)"
   ]
  },
  {
   "cell_type": "code",
   "execution_count": 192,
   "id": "7fe05bc7",
   "metadata": {},
   "outputs": [
    {
     "name": "stdout",
     "output_type": "stream",
     "text": [
      "[0.67]\n"
     ]
    }
   ],
   "source": [
    "svm_classifier = SVC(decision_function_shape='ovr', probability=True,kernel='linear')\n",
    "learner = ActiveLearner(\n",
    "    estimator=svm_classifier,\n",
    "    query_strategy=entropy_sampling,\n",
    "    X_training=X_initial, y_training=y_initial\n",
    ")\n",
    "accuracy_scores = [learner.score(elmo_test_new, y_test)]\n",
    "print(accuracy_scores)"
   ]
  },
  {
   "cell_type": "markdown",
   "id": "aea0d6a8",
   "metadata": {},
   "source": [
    "## Logistic Regression Classifier with Different Query Strategies"
   ]
  },
  {
   "cell_type": "code",
   "execution_count": 249,
   "id": "d42c021a",
   "metadata": {},
   "outputs": [
    {
     "name": "stdout",
     "output_type": "stream",
     "text": [
      "[0.97]\n"
     ]
    }
   ],
   "source": [
    "random.seed(0)\n",
    "LR= LogisticRegression(multi_class='ovr')\n",
    "learner = ActiveLearner(\n",
    "    estimator=LR,\n",
    "    query_strategy=uncertainty_sampling,\n",
    "    X_training=X_initial, y_training=y_initial\n",
    ")\n",
    "accuracy_scores = [learner.score(elmo_test_new, y_test)]\n",
    "print(accuracy_scores)"
   ]
  },
  {
   "cell_type": "code",
   "execution_count": 255,
   "id": "538de6b8",
   "metadata": {},
   "outputs": [
    {
     "name": "stdout",
     "output_type": "stream",
     "text": [
      "[0.97]\n"
     ]
    }
   ],
   "source": [
    "np.random.seed(0)\n",
    "LR= LogisticRegression(multi_class='ovr')\n",
    "learner = ActiveLearner(\n",
    "    estimator=LR,\n",
    "    query_strategy=margin_sampling,\n",
    "    X_training=X_initial, y_training=y_initial\n",
    ")\n",
    "accuracy_scores = [learner.score(elmo_test_new, y_test)]\n",
    "print(accuracy_scores)"
   ]
  },
  {
   "cell_type": "code",
   "execution_count": 261,
   "id": "5485c065",
   "metadata": {},
   "outputs": [
    {
     "name": "stdout",
     "output_type": "stream",
     "text": [
      "[0.97]\n"
     ]
    }
   ],
   "source": [
    "np.random.seed(0)\n",
    "LR= LogisticRegression(multi_class='ovr')\n",
    "learner = ActiveLearner(\n",
    "    estimator=LR,\n",
    "    query_strategy=entropy_sampling,\n",
    "    X_training=X_initial, y_training=y_initial\n",
    ")\n",
    "accuracy_scores = [learner.score(elmo_test_new, y_test)]\n",
    "print(accuracy_scores)"
   ]
  },
  {
   "cell_type": "markdown",
   "id": "61a9c9d2",
   "metadata": {},
   "source": [
    "## Sampling Instances for Human Annotation"
   ]
  },
  {
   "cell_type": "code",
   "execution_count": 250,
   "id": "6208c293",
   "metadata": {
    "id": "6208c293"
   },
   "outputs": [],
   "source": [
    "ms = []\n",
    "es = []\n",
    "us = []"
   ]
  },
  {
   "cell_type": "code",
   "execution_count": 262,
   "id": "4e689bf5",
   "metadata": {
    "colab": {
     "base_uri": "https://localhost:8080/",
     "height": 325
    },
    "id": "4e689bf5",
    "outputId": "a1bf746d-b17f-407e-fed5-7a5a5ca82916"
   },
   "outputs": [
    {
     "data": {
      "image/png": "[encoded data removed]",
      "text/plain": [
       "<Figure size 432x288 with 1 Axes>"
      ]
     },
     "metadata": {},
     "output_type": "display_data"
    },
    {
     "name": "stdout",
     "output_type": "stream",
     "text": [
      "['do you see that film']\n",
      "What is the label?\n"
     ]
    },
    {
     "name": "stderr",
     "output_type": "stream",
     "text": [
      "/Users/parulsaini/miniforge3/envs/nn/lib/python3.8/site-packages/sklearn/linear_model/_logistic.py:814: ConvergenceWarning: lbfgs failed to converge (status=1):\n",
      "STOP: TOTAL NO. of ITERATIONS REACHED LIMIT.\n",
      "\n",
      "Increase the number of iterations (max_iter) or scale the data as shown in:\n",
      "    https://scikit-learn.org/stable/modules/preprocessing.html\n",
      "Please also refer to the documentation for alternative solver options:\n",
      "    https://scikit-learn.org/stable/modules/linear_model.html#logistic-regression\n",
      "  n_iter_i = _check_optimize_result(\n"
     ]
    }
   ],
   "source": [
    "np.random.seed(0)\n",
    "accuracy_scores = [learner.score(elmo_test_new, y_test)]\n",
    "n_queries = 100\n",
    "q_id=[]\n",
    "\n",
    "for i in range(n_queries):\n",
    "    display.clear_output(wait=True)\n",
    "    query_idx, query_inst = learner.query(X_pool)\n",
    "    q_id.append(query_idx)\n",
    "    with plt.style.context('seaborn-white'):\n",
    "        plt.title('Accuracy of your model')\n",
    "        plt.plot(range(i+1), accuracy_scores)\n",
    "        plt.scatter(range(i+1), accuracy_scores)\n",
    "        plt.xlabel('number of queries')\n",
    "        plt.ylabel('accuracy')\n",
    "        display.display(plt.gcf())\n",
    "        plt.close('all')\n",
    "     \n",
    "    \n",
    "    print(X_pool_text[query_idx])\n",
    "    print(\"What is the label?\")\n",
    "    #y_new = np.array([int(input())], dtype=int)\n",
    "    y_new = y_pool[query_idx]\n",
    "    learner.teach(query_inst.reshape(1, -1), y_new)\n",
    "    X_pool, y_pool = np.delete(X_pool, query_idx, axis=0), np.delete(y_pool, query_idx, axis=0)\n",
    "    accuracy_scores.append(learner.score(elmo_test_new, y_test))\n",
    "    "
   ]
  },
  {
   "cell_type": "code",
   "execution_count": 263,
   "id": "dd1b1d44",
   "metadata": {},
   "outputs": [
    {
     "name": "stdout",
     "output_type": "stream",
     "text": [
      "[0.99]\n"
     ]
    }
   ],
   "source": [
    "LABEL_DICT = {\"DESCRIPTION\": 0, \"ENTITY\": 1, \"HUMAN\": 2, \"ABBREVIATION\": 3, \"LOCATION\": 4, \"NUMERIC\": 5}\n",
    "\n",
    "y_pred = learner.predict(elmo_test_new)\n",
    "acc = [accuracy_score(y_pred, y_test)]\n",
    "print(acc)"
   ]
  },
  {
   "cell_type": "markdown",
   "id": "45c4726a",
   "metadata": {},
   "source": [
    "### Extracting sampled instances after labeling"
   ]
  },
  {
   "cell_type": "code",
   "execution_count": 150,
   "id": "71216649",
   "metadata": {},
   "outputs": [],
   "source": [
    "# write selected queries to file\n",
    "label_mapping = {\"DESC\": 0, \"ENTY\": 1, \"HUM\": 2, \"ABBR\": 3, \"LOC\": 4, \"NUM\": 5}\n",
    "def write_to_file():\n",
    "    output_text = [k1+\":\"+df_train['text'].iloc[q_id[i]].to_list()[0] for k1, v1 in label_mapping.items() for i in range(len(q_id)) if v1 == df_train['label'].iloc[q_id[i]].to_list()[0]]\n",
    "\n",
    "    with open(\"selected_labelled_new.txt\", \"w\") as f:\n",
    "        for line in output_text:\n",
    "            f.write(line + \"\\n\")\n",
    "        f.close()\n",
    "\n",
    "    with open(\"train-without-duplicates-original.txt\", 'r') as train_file, open(\"selected_unlabeled_new.txt\", \"w\") as new_file:\n",
    "        for line in train_file:\n",
    "            if line.strip('\\n') not in output_text:\n",
    "                new_file.write(line)\n",
    "        train_file.close()\n",
    "        new_file.close()\n",
    "\n",
    "write_to_file()\n"
   ]
  },
  {
   "cell_type": "code",
   "execution_count": 264,
   "id": "M-lW81Nb9C0m",
   "metadata": {
    "id": "M-lW81Nb9C0m"
   },
   "outputs": [],
   "source": [
    "es.append(accuracy_scores)"
   ]
  },
  {
   "cell_type": "code",
   "execution_count": 258,
   "id": "f6_ZtNCX9GxT",
   "metadata": {
    "id": "f6_ZtNCX9GxT"
   },
   "outputs": [],
   "source": [
    "ms.append(accuracy_scores)"
   ]
  },
  {
   "cell_type": "code",
   "execution_count": 252,
   "id": "M96S_h2q9SMx",
   "metadata": {
    "id": "M96S_h2q9SMx"
   },
   "outputs": [],
   "source": [
    "us.append(accuracy_scores)"
   ]
  },
  {
   "cell_type": "code",
   "execution_count": 165,
   "id": "81c1a03c",
   "metadata": {
    "id": "81c1a03c"
   },
   "outputs": [],
   "source": [
    "#knn results:\n",
    "us_knn = us.copy()\n",
    "ms_knn = ms.copy()\n",
    "es_knn = es.copy()"
   ]
  },
  {
   "cell_type": "code",
   "execution_count": 182,
   "id": "4e0c6d80",
   "metadata": {},
   "outputs": [],
   "source": [
    "#rf results\n",
    "us_rf = us.copy()\n",
    "ms_rf = ms.copy()\n",
    "es_rf = es.copy()"
   ]
  },
  {
   "cell_type": "code",
   "execution_count": 201,
   "id": "d300fb92",
   "metadata": {},
   "outputs": [],
   "source": [
    "#linear svm reulsts\n",
    "us_svm = us.copy()\n",
    "ms_svm = ms.copy()\n",
    "es_svm = es.copy()"
   ]
  },
  {
   "cell_type": "code",
   "execution_count": 268,
   "id": "1e6f6af9",
   "metadata": {},
   "outputs": [],
   "source": [
    "#Logistic regression reulsts\n",
    "us_lr = us.copy()\n",
    "ms_lr = ms.copy()\n",
    "es_lr = es.copy()"
   ]
  },
  {
   "cell_type": "markdown",
   "id": "cffce56d",
   "metadata": {},
   "source": [
    "## Plotting behavious of different models for different query strategies"
   ]
  },
  {
   "cell_type": "code",
   "execution_count": 269,
   "id": "704cb7dd",
   "metadata": {},
   "outputs": [
    {
     "data": {
      "image/png": "[encoded data removed]",
      "text/plain": [
       "<Figure size 432x288 with 1 Axes>"
      ]
     },
     "metadata": {
      "needs_background": "light"
     },
     "output_type": "display_data"
    },
    {
     "data": {
      "text/plain": [
       "<Figure size 1440x1440 with 0 Axes>"
      ]
     },
     "metadata": {},
     "output_type": "display_data"
    }
   ],
   "source": [
    "plt.title('Accuracy of Logistic Regression Model')\n",
    "x= [0,20,40,60,80,100]\n",
    "y1= [us[0][0],us[0][20],us[0][40],us[0][60],us[0][80],us[0][100]]\n",
    "y2 = [ms[0][0],ms[0][20],ms[0][40],ms[0][60],ms[0][80],ms[0][100]]\n",
    "y3 = [es[0][0],es[0][20],es[0][40],es[0][60],es[0][80],es[0][100]]\n",
    "plt.plot(x,y1,color='red',label='Uncertainty Sampling')\n",
    "plt.scatter(x,y1,color='red')\n",
    "plt.plot(x,y3,  color='green', label='Entropy Sampling')\n",
    "plt.scatter(x,y3,color='green')\n",
    "plt.plot(x,y2,  color='blue', label='Margin Sampling')\n",
    "plt.scatter(x,y2,color='blue')\n",
    "\n",
    "plt.xlabel(\"Number of Queries\")\n",
    "plt.ylabel(\"Accuracies\")\n",
    "plt.legend()\n",
    "plt.figure(figsize=(20,20))\n",
    "plt.show()"
   ]
  },
  {
   "cell_type": "code",
   "execution_count": 166,
   "id": "96bf07c8",
   "metadata": {
    "colab": {
     "base_uri": "https://localhost:8080/",
     "height": 312
    },
    "id": "96bf07c8",
    "outputId": "95d401f5-6879-49c5-c967-c044ded80c13"
   },
   "outputs": [
    {
     "data": {
      "image/png": "[encoded data removed]",
      "text/plain": [
       "<Figure size 432x288 with 1 Axes>"
      ]
     },
     "metadata": {
      "needs_background": "light"
     },
     "output_type": "display_data"
    },
    {
     "data": {
      "text/plain": [
       "<Figure size 1440x1440 with 0 Axes>"
      ]
     },
     "metadata": {},
     "output_type": "display_data"
    }
   ],
   "source": [
    "plt.title('Accuracy of KNN Model')\n",
    "x= [0,20,40,60,80,100]\n",
    "y1= [us[0][0],us[0][20],us[0][40],us[0][60],us[0][80],us[0][100]]\n",
    "y2 = [ms[0][0],ms[0][20],ms[0][40],ms[0][60],ms[0][80],ms[0][100]]\n",
    "y3 = [es[0][0],es[0][20],es[0][40],es[0][60],es[0][80],es[0][100]]\n",
    "plt.plot(x,y1,color='red',label='Uncertainty Sampling k=3')\n",
    "plt.scatter(x,y1,color='red')\n",
    "plt.plot(x,y3,  color='green', label='Entropy Sampling k=3')\n",
    "plt.scatter(x,y3,color='green')\n",
    "plt.plot(x,y2,  color='blue', label='Margin Sampling k=3')\n",
    "plt.scatter(x,y2,color='blue')\n",
    "\n",
    "plt.xlabel(\"Number of Queries\")\n",
    "plt.ylabel(\"Accuracies\")\n",
    "#plt.legend()\n",
    "plt.figure(figsize=(20,20))\n",
    "plt.show()"
   ]
  },
  {
   "cell_type": "code",
   "execution_count": 202,
   "id": "acf95aab",
   "metadata": {
    "colab": {
     "base_uri": "https://localhost:8080/",
     "height": 312
    },
    "id": "acf95aab",
    "outputId": "86c0f110-6408-4e27-91e8-42faffb0ab35"
   },
   "outputs": [
    {
     "data": {
      "image/png": "[encoded data removed]",
      "text/plain": [
       "<Figure size 432x288 with 1 Axes>"
      ]
     },
     "metadata": {
      "needs_background": "light"
     },
     "output_type": "display_data"
    },
    {
     "data": {
      "text/plain": [
       "<Figure size 1440x1440 with 0 Axes>"
      ]
     },
     "metadata": {},
     "output_type": "display_data"
    }
   ],
   "source": [
    "plt.title('Accuracy of Linear SVM Model')\n",
    "x= [0,20,40,60,80,100]\n",
    "y1= [us[0][0],us[0][20],us[0][40],us[0][60],us[0][80],us[0][100]]\n",
    "y2 = [ms[0][0],ms[0][20],ms[0][40],ms[0][60],ms[0][80],ms[0][100]]\n",
    "y3 = [es[0][0],es[0][20],es[0][40],es[0][60],es[0][80],es[0][100]]\n",
    "plt.plot(x,y1,color='red',label='Uncertainty Sampling k=5')\n",
    "plt.scatter(x,y1,color='red')\n",
    "plt.plot(x,y3,  color='green', label='Entropy Sampling k=5')\n",
    "plt.scatter(x,y3,color='green')\n",
    "plt.plot(x,y2,  color='blue', label='Margin Sampling k=9')\n",
    "plt.scatter(x,y2,color='blue')\n",
    "\n",
    "plt.xlabel(\"Number of Queries\")\n",
    "plt.ylabel(\"Accuracies\")\n",
    "#plt.legend()\n",
    "plt.figure(figsize=(20,20))\n",
    "plt.show()"
   ]
  },
  {
   "cell_type": "code",
   "execution_count": 101,
   "id": "ebd531ac",
   "metadata": {
    "id": "ebd531ac"
   },
   "outputs": [
    {
     "data": {
      "image/png": "[encoded data removed]",
      "text/plain": [
       "<Figure size 432x288 with 1 Axes>"
      ]
     },
     "metadata": {
      "needs_background": "light"
     },
     "output_type": "display_data"
    },
    {
     "data": {
      "text/plain": [
       "<Figure size 1440x1440 with 0 Axes>"
      ]
     },
     "metadata": {},
     "output_type": "display_data"
    }
   ],
   "source": [
    "plt.title('Accuracy of KNN Model')\n",
    "x= [0,20,40,60,80,100]\n",
    "y1= [us[0][0],us[0][20],us[0][40],us[0][60],us[0][80],us[0][100]]\n",
    "y2 = [ms[0][0],ms[0][20],ms[0][40],ms[0][60],ms[0][80],ms[0][100]]\n",
    "y3 = [es[0][0],es[0][20],es[0][40],es[0][60],es[0][80],es[0][100]]\n",
    "plt.plot(x,y1,color='red',label='Uncertainty Sampling k=5')\n",
    "plt.scatter(x,y1,color='red')\n",
    "plt.plot(x,y3,  color='green', label='Entropy Sampling k=5')\n",
    "plt.scatter(x,y3,color='green')\n",
    "plt.plot(x,y2,  color='blue', label='Margin Sampling k=9')\n",
    "plt.scatter(x,y2,color='blue')\n",
    "\n",
    "plt.xlabel(\"Number of Queries\")\n",
    "plt.ylabel(\"Accuracies\")\n",
    "#plt.legend()\n",
    "plt.figure(figsize=(20,20))\n",
    "plt.show()"
   ]
  },
  {
   "cell_type": "markdown",
   "id": "XJ8cE4OVAjGp",
   "metadata": {
    "id": "XJ8cE4OVAjGp"
   },
   "source": [
    "# Supervised Learning - Labelled Only\n"
   ]
  },
  {
   "cell_type": "code",
   "execution_count": 25,
   "id": "227c5f2a",
   "metadata": {
    "id": "227c5f2a"
   },
   "outputs": [],
   "source": [
    "#Random Intialisation\n",
    "#select any random records to train on\n",
    "#TREC\n",
    "#n_initial1 = 68\n",
    "#SMS\n",
    "n_initial1 = 73\n",
    "np.random.seed(0)\n",
    "initial_idx1 = np.random.choice(range(len(elmo_train_new)), size=n_initial1, replace=False)\n",
    "\n",
    "X_initial1, y_initial1 = elmo_train_new[initial_idx1], y_train[initial_idx1]\n",
    "\n",
    "X_pool1, y_pool1 = np.delete(elmo_train_new, initial_idx1, axis=0), np.delete(y_train, initial_idx1, axis=0)\n"
   ]
  },
  {
   "cell_type": "code",
   "execution_count": 148,
   "id": "22fbd2f2",
   "metadata": {},
   "outputs": [],
   "source": [
    "#Astra Initialisation\n",
    "n_initial = 68\n",
    "#np.random.seed(0)\n",
    "\n",
    "#select any random records to train on\n",
    "initial_idx1 = np.random.choice(range(len(elmo_initial_new)), size=n_initial, replace=False)\n",
    "\n",
    "X_initial1, y_initial1 = elmo_initial_new[initial_idx1], y_initial_train[initial_idx1]\n",
    "\n",
    "X_pool1, y_pool1 = elmo_train_new,y_train"
   ]
  },
  {
   "cell_type": "markdown",
   "id": "a4c8134d",
   "metadata": {},
   "source": [
    "## KNN"
   ]
  },
  {
   "cell_type": "code",
   "execution_count": 30,
   "id": "e2d5cba3",
   "metadata": {
    "colab": {
     "base_uri": "https://localhost:8080/"
    },
    "id": "e2d5cba3",
    "outputId": "68b2821c-32b3-4b08-e79f-5bd85a30a484"
   },
   "outputs": [
    {
     "name": "stdout",
     "output_type": "stream",
     "text": [
      "train score:  0.9863013698630136\n",
      "\n",
      "\n",
      "[+]accuracy score of KNeighbors Algorithm =  0.95\n"
     ]
    }
   ],
   "source": [
    "#KNeighbors Algorithm\n",
    "classifier1 = KNeighborsClassifier(n_neighbors =3)\n",
    "classifier1.fit(X_initial1,y_initial1)\n",
    "print(\"train score: \",classifier1.score(X_initial1,y_initial1))\n",
    "y_pred1 = classifier1.predict(elmo_test_new)\n",
    "scKNN = accuracy_score(y_test,y_pred1)\n",
    "print(\"\\n\\n[+]accuracy score of KNeighbors Algorithm = \" ,scKNN)"
   ]
  },
  {
   "cell_type": "markdown",
   "id": "11fc58c0",
   "metadata": {},
   "source": [
    "## Random Forest"
   ]
  },
  {
   "cell_type": "code",
   "execution_count": 29,
   "id": "bbfec62c",
   "metadata": {
    "id": "bbfec62c",
    "scrolled": true
   },
   "outputs": [
    {
     "name": "stdout",
     "output_type": "stream",
     "text": [
      "train score:  1.0\n",
      "accuracy score of RandomForest Algorithm =  0.884\n"
     ]
    }
   ],
   "source": [
    "classifier3 = RandomForestClassifier(random_state =0)\n",
    "classifier3.fit(X_initial1,y_initial1)\n",
    "print(\"train score: \",classifier3.score(X_initial1,y_initial1))\n",
    "y_pred3 = classifier3.predict(elmo_test_new)\n",
    "scRF = accuracy_score(y_test,y_pred3)\n",
    "print(\"accuracy score of RandomForest Algorithm = \" ,scRF)"
   ]
  },
  {
   "cell_type": "markdown",
   "id": "ef8ebfa9",
   "metadata": {},
   "source": [
    "## SVM"
   ]
  },
  {
   "cell_type": "code",
   "execution_count": 28,
   "id": "844bbc00",
   "metadata": {
    "id": "844bbc00"
   },
   "outputs": [
    {
     "name": "stdout",
     "output_type": "stream",
     "text": [
      "train score:  1.0\n",
      "accuracy score of SVC Algorithm =  0.954\n"
     ]
    }
   ],
   "source": [
    "classifier4 = SVC(decision_function_shape='ovr', probability=True,kernel='linear')\n",
    "classifier4.fit(X_initial1,y_initial1)\n",
    "print(\"train score: \",classifier4.score(X_initial1,y_initial1))\n",
    "y_pred4 = classifier4.predict(elmo_test_new)\n",
    "SVC_Linear = accuracy_score(y_test,y_pred4)\n",
    "print(\"accuracy score of SVC Algorithm = \" ,SVC_Linear)"
   ]
  },
  {
   "cell_type": "markdown",
   "id": "fea7730f",
   "metadata": {},
   "source": [
    "## Logistic Regression"
   ]
  },
  {
   "cell_type": "code",
   "execution_count": 27,
   "id": "e9a8af5a",
   "metadata": {},
   "outputs": [
    {
     "name": "stdout",
     "output_type": "stream",
     "text": [
      "train score:  1.0\n",
      "accuracy score of LR Algorithm =  0.94\n"
     ]
    }
   ],
   "source": [
    "classifier5 = LogisticRegression(multi_class='ovr')\n",
    "classifier5.fit(X_initial1,y_initial1)\n",
    "print(\"train score: \",classifier5.score(X_initial1,y_initial1))\n",
    "y_pred5 = classifier5.predict(elmo_test_new)\n",
    "LR = accuracy_score(y_test,y_pred5)\n",
    "print(\"accuracy score of LR Algorithm = \" ,LR)"
   ]
  },
  {
   "cell_type": "markdown",
   "id": "97f231e9",
   "metadata": {},
   "source": [
    "# Comparitive Plots - Weak Supervision Frameworks & Active Learner"
   ]
  },
  {
   "cell_type": "markdown",
   "id": "fac774af",
   "metadata": {},
   "source": [
    "## TREC Dataset"
   ]
  },
  {
   "cell_type": "code",
   "execution_count": 7,
   "id": "9da707b5",
   "metadata": {},
   "outputs": [],
   "source": [
    "# LR with uncertanty sampling\n",
    "active_best= 82.4 \n",
    "snorkel = 57.6\n",
    "imply_loss = 77\n",
    "#with 68 labelled instances\n",
    "knn=56.4\n",
    "rf=59.4\n",
    "svc=67\n",
    "LR = 65.2\n",
    "L_only =67\n",
    "#with 168 labelled instances\n",
    "knn1 =66.6\n",
    "rf1 = 68.2\n",
    "svc1= 79.2\n",
    "lr1= 79.8"
   ]
  },
  {
   "cell_type": "code",
   "execution_count": 9,
   "id": "32f5da95",
   "metadata": {},
   "outputs": [
    {
     "data": {
      "image/png": "[encoded data removed]",
      "text/plain": [
       "<Figure size 432x288 with 1 Axes>"
      ]
     },
     "metadata": {
      "needs_background": "light"
     },
     "output_type": "display_data"
    }
   ],
   "source": [
    "import matplotlib.pyplot as plt\n",
    "x = ['Snorkel','Imply_loss','L_only','Active_best']\n",
    "y = [snorkel,imply_loss,L_only,active_best]\n",
    "acc= ['57.6%','77%','67%','81%']\n",
    "fig, ax = plt.subplots()\n",
    "ax.scatter(x[0], y[0],s=100,label='Snorkel')\n",
    "ax.scatter(x[1], y[1],s=100,label='Imply Loss')\n",
    "ax.scatter(x[2], y[2],s=100,label='Labelled Only')\n",
    "ax.scatter(x[3], y[3],s=100,label='Active Learning')\n",
    "ax.legend()\n",
    "plt.ylabel(\"Accuracies\")\n",
    "plt.xlabel(\"Model\")\n",
    "for i, txt in enumerate(acc):\n",
    "    ax.annotate(txt, (x[i], y[i]))\n",
    "plt.show()"
   ]
  },
  {
   "cell_type": "code",
   "execution_count": 12,
   "id": "b64ce501",
   "metadata": {},
   "outputs": [
    {
     "data": {
      "image/png": "[encoded data removed]",
      "text/plain": [
       "<Figure size 432x288 with 1 Axes>"
      ]
     },
     "metadata": {
      "needs_background": "light"
     },
     "output_type": "display_data"
    }
   ],
   "source": [
    "ax = plt.figure()\n",
    "#plt.title('Test Accuracy Comparison - TREC Dataset')\n",
    "plt.bar(acc,y, color={'darkcyan', 'coral', 'cornflowerblue', 'darkgrey'})\n",
    "plt.xticks(np.arange(4),x)\n",
    "plt.ylabel(\"Accuracy(%)\")\n",
    "plt.xlabel(\"Model\")\n",
    "plt.ylim([0,100])\n",
    "for i in range(len(acc)):\n",
    "    plt.text(i, y[i]+1, acc[i], ha='center')\n",
    "plt.show()"
   ]
  },
  {
   "cell_type": "markdown",
   "id": "1a6aa78b",
   "metadata": {},
   "source": []
  },
  {
   "cell_type": "markdown",
   "id": "78eba0bc",
   "metadata": {},
   "source": [
    "## SMS Dataset"
   ]
  },
  {
   "cell_type": "code",
   "execution_count": 13,
   "id": "f13534e5",
   "metadata": {},
   "outputs": [],
   "source": [
    "#73 labelled instances initially, 100 actively sampled\n",
    "active_best= 99\n",
    "snorkel = 97.47\n",
    "imply_loss = 98.6\n",
    "L_only = 98"
   ]
  },
  {
   "cell_type": "code",
   "execution_count": 14,
   "id": "a86828ee",
   "metadata": {},
   "outputs": [
    {
     "data": {
      "image/png": "[encoded data removed]",
      "text/plain": [
       "<Figure size 432x288 with 1 Axes>"
      ]
     },
     "metadata": {
      "needs_background": "light"
     },
     "output_type": "display_data"
    }
   ],
   "source": [
    "import matplotlib.pyplot as plt\n",
    "x = ['Snorkel','Imply_loss','L_only','Active_best']\n",
    "y = [snorkel,imply_loss,L_only,active_best]\n",
    "acc= ['97.47%','98.6%','98%','99%']\n",
    "fig, ax = plt.subplots()\n",
    "ax.scatter(x[0], y[0],s=100,label='Snorkel')\n",
    "ax.scatter(x[1], y[1],s=100,label='Imply Loss')\n",
    "ax.scatter(x[2], y[2],s=100,label='Labelled Only')\n",
    "ax.scatter(x[3], y[3],s=100,label='Active Learning')\n",
    "ax.legend()\n",
    "plt.ylabel(\"Accuracy(%)\")\n",
    "plt.xlabel(\"Model\")\n",
    "\n",
    "for i, txt in enumerate(acc):\n",
    "    ax.annotate(txt, (x[i], y[i]))\n",
    "plt.show()"
   ]
  },
  {
   "cell_type": "code",
   "execution_count": 15,
   "id": "f0ae215f",
   "metadata": {},
   "outputs": [
    {
     "data": {
      "image/png": "[encoded data removed]",
      "text/plain": [
       "<Figure size 432x288 with 1 Axes>"
      ]
     },
     "metadata": {
      "needs_background": "light"
     },
     "output_type": "display_data"
    }
   ],
   "source": [
    "ax = plt.figure()\n",
    "#plt.title('Test Accuracy Comparison - SMS Dataset')\n",
    "plt.bar(acc,y, color={'darkcyan', 'coral', 'cornflowerblue', 'darkgrey'})\n",
    "plt.xticks(np.arange(4),x)\n",
    "plt.ylabel(\"Accuracy(%)\")\n",
    "plt.xlabel(\"Model\")\n",
    "for i in range(len(acc)):\n",
    "    plt.text(i, y[i]+1, acc[i], ha='center')\n",
    "plt.show()"
   ]
  },
  {
   "cell_type": "markdown",
   "id": "2004528d",
   "metadata": {},
   "source": [
    "## ASTRA +AL"
   ]
  },
  {
   "cell_type": "code",
   "execution_count": 16,
   "id": "6df3ade4",
   "metadata": {},
   "outputs": [
    {
     "data": {
      "image/png": "[encoded data removed]",
      "text/plain": [
       "<Figure size 432x288 with 1 Axes>"
      ]
     },
     "metadata": {
      "needs_background": "light"
     },
     "output_type": "display_data"
    }
   ],
   "source": [
    "astra= 81\n",
    "active_best = 79.2\n",
    "astra_al = 81.2\n",
    "import matplotlib.pyplot as plt\n",
    "x = ['Active_best','ASTRA','ASTRA + Active_best']\n",
    "y = [active_best,astra,astra_al]\n",
    "acc= ['79.2%','81%','81.2%']\n",
    "fig, ax = plt.subplots()\n",
    "ax.scatter(x[0], y[0],s=100,label='Active_best')\n",
    "ax.scatter(x[1], y[1],s=100,label='ASTRA')\n",
    "ax.scatter(x[2], y[2],s=100,label='ASTRA + Active_best')\n",
    "ax.legend()\n",
    "plt.ylabel(\"Accuracies\")\n",
    "plt.xlabel(\"Model\")\n",
    "\n",
    "for i, txt in enumerate(acc):\n",
    "    ax.annotate(txt, (x[i], y[i]))\n",
    "plt.show()\n",
    "\n"
   ]
  },
  {
   "cell_type": "code",
   "execution_count": 17,
   "id": "09ccf16b",
   "metadata": {},
   "outputs": [
    {
     "data": {
      "image/png": "[encoded data removed]",
      "text/plain": [
       "<Figure size 432x288 with 1 Axes>"
      ]
     },
     "metadata": {
      "needs_background": "light"
     },
     "output_type": "display_data"
    }
   ],
   "source": [
    "import numpy as np\n",
    "ax = plt.figure()\n",
    "#plt.title('Test Accuracy Comparison')\n",
    "plt.bar(acc,y, color={'darkcyan', 'coral', 'cornflowerblue', 'darkgrey'})\n",
    "plt.xticks(np.arange(3),x)\n",
    "plt.ylabel(\"Accuracy(%)\")\n",
    "plt.xlabel(\"Model\")\n",
    "plt.ylim([0,100])\n",
    "for i in range(len(acc)):\n",
    "    plt.text(i, y[i]+1, acc[i], ha='center')\n",
    "plt.show()"
   ]
  }
 ],
 "metadata": {
  "colab": {
   "collapsed_sections": [],
   "name": "Active Learning with elmo.ipynb",
   "provenance": []
  },
  "kernelspec": {
   "display_name": "Python 3 (ipykernel)",
   "language": "python",
   "name": "python3"
  },
  "language_info": {
   "codemirror_mode": {
    "name": "ipython",
    "version": 3
   },
   "file_extension": ".py",
   "mimetype": "text/x-python",
   "name": "python",
   "nbconvert_exporter": "python",
   "pygments_lexer": "ipython3",
   "version": "3.8.12"
  }
 },
 "nbformat": 4,
 "nbformat_minor": 5
}
